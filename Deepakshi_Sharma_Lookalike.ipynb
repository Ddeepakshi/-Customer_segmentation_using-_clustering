{
 "cells": [
  {
   "cell_type": "code",
   "execution_count": 1,
   "id": "429960bc-fd04-4284-a77a-2b4e9d633302",
   "metadata": {},
   "outputs": [],
   "source": [
    "import pandas as pd\n",
    "from sklearn.metrics.pairwise import cosine_similarity\n",
    "from sklearn.preprocessing import StandardScaler\n",
    "\n"
   ]
  },
  {
   "cell_type": "code",
   "execution_count": 2,
   "id": "f38bec56-c5b8-415c-a679-4b72c0211fe7",
   "metadata": {},
   "outputs": [],
   "source": [
    "# Load datasets\n",
    "customers = pd.read_csv('Customers.csv')\n",
    "products = pd.read_csv('Products.csv')\n",
    "transactions = pd.read_csv('Transactions.csv')\n"
   ]
  },
  {
   "cell_type": "code",
   "execution_count": 5,
   "id": "42e4ae49-0d9a-4f4e-999a-23ffb89a3e0b",
   "metadata": {},
   "outputs": [],
   "source": [
    "\n",
    "# Merge datasets\n",
    "merged_data = transactions.merge(customers, on='CustomerID', how='left')\n",
    "merged_data = merged_data.merge(products, on='ProductID', how='left')\n"
   ]
  },
  {
   "cell_type": "code",
   "execution_count": 10,
   "id": "42efffec-2923-4db0-85d3-2282aa359c9d",
   "metadata": {},
   "outputs": [],
   "source": [
    "total_spending = merged_data.groupby('CustomerID')['TotalValue'].sum()"
   ]
  },
  {
   "cell_type": "code",
   "execution_count": 7,
   "id": "06df271b-19e5-4533-bd05-2110f5920dfb",
   "metadata": {},
   "outputs": [],
   "source": [
    "transaction_count = merged_data.groupby('CustomerID')['TransactionID'].count()"
   ]
  },
  {
   "cell_type": "code",
   "execution_count": 8,
   "id": "0d69ecbc-dfae-4715-9776-75d2d501662d",
   "metadata": {},
   "outputs": [],
   "source": [
    "category_counts = pd.crosstab(merged_data['CustomerID'], merged_data['Category'])"
   ]
  },
  {
   "cell_type": "code",
   "execution_count": 11,
   "id": "c4a933a3-5b29-452d-885b-c66f52f74633",
   "metadata": {},
   "outputs": [],
   "source": [
    "customer_features = pd.DataFrame({'TotalSpending': total_spending,'TransactionCount': transaction_count}).join(category_counts).fillna(0)"
   ]
  },
  {
   "cell_type": "code",
   "execution_count": 13,
   "id": "11fa3434-29d8-44a0-9a8f-5449fc1af45e",
   "metadata": {},
   "outputs": [],
   "source": [
    "from sklearn.metrics.pairwise import cosine_similarity\n",
    "similarity_matrix = cosine_similarity(customer_features)\n",
    "similarity_df = pd.DataFrame(similarity_matrix, index=customer_features.index, columns=customer_features.index)"
   ]
  },
  {
   "cell_type": "code",
   "execution_count": 14,
   "id": "442d79e7-5e2f-44ca-900a-8d24bbb7a5d9",
   "metadata": {},
   "outputs": [],
   "source": [
    "lookalike_map = {}\n",
    "\n",
    "# Loop through each customer and find top 3 similar customers\n",
    "for customer in similarity_df.index:\n",
    "    similar_customers = similarity_df.loc[customer].sort_values(ascending=False)[1:4]\n",
    "    lookalike_map[customer] = [(cust, round(score, 2)) for cust, score in similar_customers.items()]\n",
    "\n",
    "# Convert lookalike map to a DataFrame\n",
    "lookalike_df = pd.DataFrame({\n",
    "    'CustomerID': list(lookalike_map.keys()),\n",
    "    'Lookalikes': list(lookalike_map.values())\n",
    "})\n",
    "\n",
    "# Save the result to a CSV file\n",
    "lookalike_df.to_csv('Lookalike.csv', index=False)\n"
   ]
  },
  {
   "cell_type": "code",
   "execution_count": 16,
   "id": "07c749b5-8196-4aa3-a522-783a8f71ad45",
   "metadata": {},
   "outputs": [
    {
     "name": "stdout",
     "output_type": "stream",
     "text": [
      "   CustomerID                                  Lookalikes\n",
      "0       C0001  [(C0035, 1.0), (C0146, 1.0), (C0005, 1.0)]\n",
      "1       C0002  [(C0134, 1.0), (C0103, 1.0), (C0062, 1.0)]\n",
      "2       C0003  [(C0195, 1.0), (C0166, 1.0), (C0179, 1.0)]\n",
      "3       C0004  [(C0177, 1.0), (C0113, 1.0), (C0075, 1.0)]\n",
      "4       C0005  [(C0197, 1.0), (C0095, 1.0), (C0001, 1.0)]\n",
      "5       C0006  [(C0082, 1.0), (C0185, 1.0), (C0187, 1.0)]\n",
      "6       C0007  [(C0140, 1.0), (C0045, 1.0), (C0051, 1.0)]\n",
      "7       C0008  [(C0031, 1.0), (C0189, 1.0), (C0098, 1.0)]\n",
      "8       C0009  [(C0049, 1.0), (C0058, 1.0), (C0077, 1.0)]\n",
      "9       C0010  [(C0034, 1.0), (C0030, 1.0), (C0150, 1.0)]\n",
      "10      C0011  [(C0126, 1.0), (C0027, 1.0), (C0070, 1.0)]\n",
      "11      C0012  [(C0065, 1.0), (C0152, 1.0), (C0104, 1.0)]\n",
      "12      C0013  [(C0016, 1.0), (C0183, 1.0), (C0105, 1.0)]\n",
      "13      C0014  [(C0128, 1.0), (C0151, 1.0), (C0172, 1.0)]\n",
      "14      C0015  [(C0160, 1.0), (C0038, 1.0), (C0137, 1.0)]\n",
      "15      C0016  [(C0183, 1.0), (C0107, 1.0), (C0013, 1.0)]\n",
      "16      C0017  [(C0090, 1.0), (C0081, 1.0), (C0194, 1.0)]\n",
      "17      C0018  [(C0085, 1.0), (C0087, 1.0), (C0148, 1.0)]\n",
      "18      C0019  [(C0094, 1.0), (C0161, 1.0), (C0147, 1.0)]\n",
      "19      C0020  [(C0120, 1.0), (C0007, 1.0), (C0045, 1.0)]\n"
     ]
    }
   ],
   "source": [
    "\n",
    "top = lookalike_df[lookalike_df['CustomerID'].isin(customers['CustomerID'][:20])]\n",
    "print(top)\n"
   ]
  },
  {
   "cell_type": "code",
   "execution_count": null,
   "id": "20f2f7ee-428b-41c1-b773-318d5f4c85e7",
   "metadata": {},
   "outputs": [],
   "source": []
  }
 ],
 "metadata": {
  "kernelspec": {
   "display_name": "Python 3 (ipykernel)",
   "language": "python",
   "name": "python3"
  },
  "language_info": {
   "codemirror_mode": {
    "name": "ipython",
    "version": 3
   },
   "file_extension": ".py",
   "mimetype": "text/x-python",
   "name": "python",
   "nbconvert_exporter": "python",
   "pygments_lexer": "ipython3",
   "version": "3.13.0"
  }
 },
 "nbformat": 4,
 "nbformat_minor": 5
}
